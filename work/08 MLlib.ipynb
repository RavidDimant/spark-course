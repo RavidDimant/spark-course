{
 "cells": [
  {
   "cell_type": "markdown",
   "id": "44ab91d4-60f9-4b79-b338-e0c2b363aef4",
   "metadata": {
    "tags": [],
    "pycharm": {
     "name": "#%% md\n"
    }
   },
   "source": [
    "# Machine Learning Via Spark"
   ],
   "outputs": []
  },
  {
   "cell_type": "markdown",
   "source": [
    "\n",
    "In this notebook, we will explore how Spark can assist us in machine learning applications and provide us with additional tools to address ML challenges."
   ],
   "metadata": {
    "collapsed": false,
    "pycharm": {
     "name": "#%% md\n"
    }
   }
  },
  {
   "cell_type": "markdown",
   "source": [
    "## Using the Machine Learning library (MLlib)"
   ],
   "metadata": {
    "collapsed": false,
    "pycharm": {
     "name": "#%% md\n"
    }
   }
  },
  {
   "cell_type": "markdown",
   "source": [
    "Spark provides a library with ML functionality. The set of tools is ever expanding - see the latest at https://spark.apache.org/docs/latest/ml-guide.html\n",
    "\n",
    "The library is implemented in Scala, and has python binding (i.e. calling from python to the API).\n",
    "\n",
    "\n",
    "Using MLFlow (https://mlflow.org/docs/latest/python_api/mlflow.spark.html?highlight=spark#module-mlflow.spark)is also possible, but not covered here."
   ],
   "metadata": {
    "collapsed": false,
    "pycharm": {
     "name": "#%% md\n"
    }
   }
  },
  {
   "cell_type": "markdown",
   "source": [
    "**For more information and explanations, check chapters 24 & 25 in** : Chambers, B., & Zaharia, M. (2018). \"Spark: The definitive guide: Big data processing made simple\" [SDG].\n",
    "\n",
    "SDG serves as a comprehensive guide to Apache Spark, a powerful open-source distributed computing system used for big data processing and analytics.\n",
    "\n",
    "You can find this book here:\n",
    "https://github.com/VolodymyrGavrysh/My_RoadMap_Data_Science/blob/master/kds/books/Spark-The%20Definitive%20Guide.pdf"
   ],
   "metadata": {
    "collapsed": false,
    "pycharm": {
     "name": "#%% md\n"
    }
   }
  },
  {
   "cell_type": "markdown",
   "source": [
    "## Prepare the data"
   ],
   "metadata": {
    "collapsed": false,
    "pycharm": {
     "name": "#%% md\n"
    }
   }
  },
  {
   "cell_type": "markdown",
   "id": "e0239539-8e23-4526-a01a-6c740ce015a3",
   "metadata": {
    "tags": [],
    "pycharm": {
     "name": "#%% md\n"
    }
   },
   "source": [
    "If a specific tool is not part of MLlib, maybe someone already implemented it.\n",
    "\n",
    "Always be suspicious of the code source: who wrote it? when was the last update? how many stars?\n",
    "\n",
    "See for example https://spark-packages.org/?q=tags%3A%22Machine%20Learning%22 which is a repo without any quality assurance. You can find a great code, a buggy code, or malware."
   ]
  },
  {
   "cell_type": "markdown",
   "source": [
    "We deal with a classic data-set example of retail-data, capturing transactions and sales activities. Each record represents a unique transaction within a retail environment during the year 2011."
   ],
   "metadata": {
    "collapsed": false,
    "pycharm": {
     "name": "#%% md\n"
    }
   }
  },
  {
   "cell_type": "code",
   "execution_count": 1,
   "id": "28feace4-9910-4b0c-b691-79daf4a55834",
   "metadata": {
    "tags": [],
    "pycharm": {
     "name": "#%%\n"
    }
   },
   "outputs": [],
   "source": [
    "from pathlib import Path\n",
    "from pyspark.sql import SparkSession\n",
    "spark = SparkSession.builder.appName('MLlib').getOrCreate()"
   ]
  },
  {
   "cell_type": "code",
   "execution_count": 2,
   "id": "181ac6fc-20ff-4f4d-9b04-0b7a47fb6cec",
   "metadata": {
    "tags": [],
    "pycharm": {
     "name": "#%%\n"
    }
   },
   "outputs": [
    {
     "name": "stdout",
     "output_type": "stream",
     "text": [
      "df.count = 489994\n"
     ]
    }
   ],
   "source": [
    "def load_data(file_name_glob):\n",
    "    \"\"\" load the contents of the input files.\n",
    "        If we already saved them in Parquet file, use it.\n",
    "        #  >>> load_data('../data/sdg/retail-data/by-day/2010-12*.csv')\n",
    "        :param file_name_glob wildcard value of the files to read. e.g. \"/mnt/dir/data*\"\n",
    "        :return: DataFrame containing all the data\n",
    "    \"\"\"\n",
    "    \n",
    "    def cache_file_name(file_name):\n",
    "        t = file_name.replace('*',\"_\").replace('?',\"_\")\n",
    "        return t[: t.rfind('.')] + \".parquet\"\n",
    "    \n",
    "    import os\n",
    "    dirname = os.path.dirname(file_name_glob)\n",
    "    p = Path(dirname)\n",
    "    fname = Path(file_name_glob)\n",
    "    basename = fname.name\n",
    "    cache_name = cache_file_name(file_name_glob)\n",
    "    if Path(cache_name).exists():\n",
    "        return spark.read.parquet(cache_name)\n",
    "    \n",
    "    #suffix = fname.suffix\n",
    "    if not p.exists():\n",
    "        raise ValueError('Path not found')\n",
    "    file_list = list(p.glob(basename))\n",
    "    x = [ str(f.resolve()) for f in file_list]\n",
    "    df = spark.read \\\n",
    "    .option(\"header\",\"true\")\\\n",
    "    .option(\"inferSchema\", \"true\")\\\n",
    "    .csv(x)\n",
    "\n",
    "    # df.write.parquet(cache_name) - for optimization\n",
    "    return df\n",
    "    \n",
    "\n",
    "# df = load_data('../data/sdg/retail-data/by-day/2011-*.csv')\n",
    "df = load_data(r'C:/Users/user/Desktop/data/2011-*.csv')\n",
    "print(f\"df.count = {df.count()}\")\n"
   ]
  },
  {
   "cell_type": "code",
   "execution_count": 3,
   "outputs": [
    {
     "name": "stdout",
     "output_type": "stream",
     "text": [
      "+---------+---------+--------------------+--------+-------------------+---------+----------+--------------+\n",
      "|InvoiceNo|StockCode|         Description|Quantity|        InvoiceDate|UnitPrice|CustomerID|       Country|\n",
      "+---------+---------+--------------------+--------+-------------------+---------+----------+--------------+\n",
      "|   580538|    23084|  RABBIT NIGHT LIGHT|      48|2011-12-05 08:38:00|     1.79|   14075.0|United Kingdom|\n",
      "|   580538|    23077| DOUGHNUT LIP GLOSS |      20|2011-12-05 08:38:00|     1.25|   14075.0|United Kingdom|\n",
      "|   580538|    22906|12 MESSAGE CARDS ...|      24|2011-12-05 08:38:00|     1.65|   14075.0|United Kingdom|\n",
      "|   580538|    21914|BLUE HARMONICA IN...|      24|2011-12-05 08:38:00|     1.25|   14075.0|United Kingdom|\n",
      "|   580538|    22467|   GUMBALL COAT RACK|       6|2011-12-05 08:38:00|     2.55|   14075.0|United Kingdom|\n",
      "|   580538|    21544|SKULLS  WATER TRA...|      48|2011-12-05 08:38:00|     0.85|   14075.0|United Kingdom|\n",
      "|   580538|    23126|FELTCRAFT GIRL AM...|       8|2011-12-05 08:38:00|     4.95|   14075.0|United Kingdom|\n",
      "|   580538|    21833|CAMOUFLAGE LED TORCH|      24|2011-12-05 08:38:00|     1.69|   14075.0|United Kingdom|\n",
      "|   580539|    21479|WHITE SKULL HOT W...|       4|2011-12-05 08:39:00|     4.25|   18180.0|United Kingdom|\n",
      "|   580539|   84030E|ENGLISH ROSE HOT ...|       4|2011-12-05 08:39:00|     4.25|   18180.0|United Kingdom|\n",
      "|   580539|    23355|HOT WATER BOTTLE ...|       4|2011-12-05 08:39:00|     4.95|   18180.0|United Kingdom|\n",
      "|   580539|    22111|SCOTTIE DOG HOT W...|       3|2011-12-05 08:39:00|     4.95|   18180.0|United Kingdom|\n",
      "|   580539|    21115|ROSE CARAVAN DOOR...|       8|2011-12-05 08:39:00|     1.95|   18180.0|United Kingdom|\n",
      "|   580539|    21411|GINGHAM HEART  DO...|       8|2011-12-05 08:39:00|     1.95|   18180.0|United Kingdom|\n",
      "|   580539|    23235|STORAGE TIN VINTA...|      12|2011-12-05 08:39:00|     1.25|   18180.0|United Kingdom|\n",
      "|   580539|    23239|SET OF 4 KNICK KN...|       6|2011-12-05 08:39:00|     1.65|   18180.0|United Kingdom|\n",
      "|   580539|    22197|      POPCORN HOLDER|      36|2011-12-05 08:39:00|     0.85|   18180.0|United Kingdom|\n",
      "|   580539|    22693|GROW A FLYTRAP OR...|      24|2011-12-05 08:39:00|     1.25|   18180.0|United Kingdom|\n",
      "|   580539|    22372|AIRLINE BAG VINTA...|       4|2011-12-05 08:39:00|     4.25|   18180.0|United Kingdom|\n",
      "|   580539|    22375|AIRLINE BAG VINTA...|       4|2011-12-05 08:39:00|     4.25|   18180.0|United Kingdom|\n",
      "+---------+---------+--------------------+--------+-------------------+---------+----------+--------------+\n",
      "only showing top 20 rows\n",
      "\n"
     ]
    }
   ],
   "source": [
    "df.show()"
   ],
   "metadata": {
    "collapsed": false,
    "pycharm": {
     "name": "#%%\n"
    }
   }
  },
  {
   "cell_type": "code",
   "execution_count": 4,
   "id": "f2ff27a7-179e-460a-ad4d-6b24f015db0c",
   "metadata": {
    "tags": [],
    "pycharm": {
     "name": "#%%\n"
    }
   },
   "outputs": [
    {
     "name": "stdout",
     "output_type": "stream",
     "text": [
      "root\n",
      " |-- InvoiceNo: string (nullable = true)\n",
      " |-- StockCode: string (nullable = true)\n",
      " |-- Description: string (nullable = true)\n",
      " |-- Quantity: integer (nullable = true)\n",
      " |-- InvoiceDate: timestamp (nullable = true)\n",
      " |-- UnitPrice: double (nullable = true)\n",
      " |-- CustomerID: double (nullable = true)\n",
      " |-- Country: string (nullable = true)\n",
      "\n"
     ]
    }
   ],
   "source": [
    "df.printSchema()"
   ]
  },
  {
   "cell_type": "markdown",
   "id": "0f887b51-4422-4660-80fc-650fb8c69b0b",
   "metadata": {
    "pycharm": {
     "name": "#%% md\n"
    }
   },
   "source": [
    "Add a new column: \"day of week\" and split to train/test"
   ]
  },
  {
   "cell_type": "code",
   "execution_count": 5,
   "id": "0e8f7ec9-c948-43d0-99dc-46b693e60f05",
   "metadata": {
    "pycharm": {
     "name": "#%%\n"
    }
   },
   "outputs": [
    {
     "name": "stdout",
     "output_type": "stream",
     "text": [
      "train:test ratio: 2.3399041640253837\n"
     ]
    }
   ],
   "source": [
    "from pyspark.sql.functions import date_format, col\n",
    "preppedDataFrame = df\\\n",
    "  .na.fill(0)\\\n",
    "  .withColumn(\"day_of_week\", date_format(col(\"InvoiceDate\"), \"EEEE\"))\n",
    "  #.coalesce(5)\n",
    "\n",
    "# split to train and test:\n",
    "trainDataFrame,testDataFrame  = preppedDataFrame.randomSplit([0.7, 0.3])\n",
    "\n",
    "# we could also split using other criteria:\n",
    "# trainDataFrame = preppedDataFrame\\\n",
    "#   .where(\"InvoiceDate < '2011-07-01'\")\n",
    "# testDataFrame = preppedDataFrame\\\n",
    "#   .where(\"InvoiceDate >= '2011-07-01'\")\n",
    "\n",
    "print(f\"train:test ratio: {trainDataFrame.count()/testDataFrame.count()}\")"
   ]
  },
  {
   "cell_type": "markdown",
   "id": "888e3741-a059-49dc-a3af-80be1788457c",
   "metadata": {
    "pycharm": {
     "name": "#%% md\n"
    }
   },
   "source": [
    "#### Transformations for the data\n",
    "Convert \"day of week\" into one hot vector. E.g \"Mon\" -> 2 -> one hot encoding\n",
    "Convert \"Country\" -> \"country_index\"\n",
    "Convert \"UnitPrice\", \"Quantity\", \"day_of_week_encoded\" columns into a single feature vector -> \"features\"\n",
    "\n",
    "**What is the downside of using one hot encoding?**\n",
    "- wasted space -> solved by using sparse vectors\n",
    "- increased dimension"
   ]
  },
  {
   "cell_type": "code",
   "execution_count": 6,
   "id": "19ab6915-328a-47db-b3d5-f2dfa73f5b4d",
   "metadata": {
    "tags": [],
    "pycharm": {
     "name": "#%%\n"
    }
   },
   "outputs": [],
   "source": [
    "from pyspark.ml.feature import StringIndexer\n",
    "day_indexer = StringIndexer()\\\n",
    "  .setInputCol(\"day_of_week\")\\\n",
    "  .setOutputCol(\"day_of_week_index\")\n",
    "\n",
    "country_indexer = StringIndexer()\\\n",
    "  .setInputCol(\"Country\")\\\n",
    "  .setOutputCol(\"country_index\")\n",
    "\n",
    "from pyspark.ml.feature import OneHotEncoder\n",
    "encoder = OneHotEncoder()\\\n",
    "  .setInputCol(\"day_of_week_index\")\\\n",
    "  .setOutputCol(\"day_of_week_encoded\")\n",
    "from pyspark.ml.feature import VectorAssembler\n",
    "\n",
    "#  add \"features\" column that contains the input columns as elements in a vector.\n",
    "# Not very exciting, right?\n",
    "vectorAssembler = VectorAssembler()\\\n",
    "  .setInputCols([\"UnitPrice\", \"Quantity\", \"day_of_week_encoded\"])\\\n",
    "  .setOutputCol(\"features\")\n",
    "\n",
    "# Read about pipelines here: https://spark.apache.org/docs/latest/ml-pipeline.html\n",
    "from pyspark.ml import Pipeline\n",
    "\n",
    "transformationPipeline = Pipeline()\\\n",
    "  .setStages([day_indexer, country_indexer, encoder, vectorAssembler])\n",
    "\n",
    "fittedPipeline = transformationPipeline.fit(trainDataFrame)\n",
    "transformedTraining = fittedPipeline.transform(trainDataFrame)\n",
    "tranformedTest = fittedPipeline.transform(testDataFrame)\n",
    "\n",
    "# Let's drop unused columns. \n",
    "# This reduces the amount of needed memory so improving performance.\n",
    "transformedTraining = transformedTraining.drop('day_of_week').drop('day_of_week_encoded').drop('day_of_week_index'). drop('CustomerID')\n",
    "\n",
    "# Apply the fitted pipeline to the test data\n",
    "transformedTest = fittedPipeline.transform(testDataFrame)\n",
    "\n",
    "# Drop unused columns from transformedTest\n",
    "transformedTest = transformedTest.drop('day_of_week').drop('day_of_week_encoded').drop('day_of_week_index').drop('CustomerID')"
   ]
  },
  {
   "cell_type": "markdown",
   "source": [
    "The column \"features\" in the data frames was created through feature engineering technique - vectorization using Spark's VectorAssembler."
   ],
   "metadata": {
    "collapsed": false,
    "pycharm": {
     "name": "#%% md\n"
    }
   }
  },
  {
   "cell_type": "code",
   "execution_count": 7,
   "id": "e02ac748-737d-4360-8c4e-db3c285679e0",
   "metadata": {
    "tags": [],
    "pycharm": {
     "name": "#%%\n"
    }
   },
   "outputs": [
    {
     "data": {
      "text/plain": "DataFrame[InvoiceNo: string, StockCode: string, Description: string, Quantity: int, InvoiceDate: timestamp, UnitPrice: double, Country: string, country_index: double, features: vector]"
     },
     "execution_count": 7,
     "metadata": {},
     "output_type": "execute_result"
    }
   ],
   "source": [
    "# Caching the transfored DF will save a lot of time when reusing it (e.g. for hyper param tuning)\n",
    "transformedTraining.cache()"
   ]
  },
  {
   "cell_type": "code",
   "execution_count": 8,
   "outputs": [
    {
     "name": "stdout",
     "output_type": "stream",
     "text": [
      "root\n",
      " |-- InvoiceNo: string (nullable = true)\n",
      " |-- StockCode: string (nullable = true)\n",
      " |-- Description: string (nullable = true)\n",
      " |-- Quantity: integer (nullable = true)\n",
      " |-- InvoiceDate: timestamp (nullable = true)\n",
      " |-- UnitPrice: double (nullable = false)\n",
      " |-- Country: string (nullable = true)\n",
      " |-- country_index: double (nullable = false)\n",
      " |-- features: vector (nullable = true)\n",
      "\n"
     ]
    }
   ],
   "source": [
    "transformedTraining.printSchema()"
   ],
   "metadata": {
    "collapsed": false,
    "pycharm": {
     "name": "#%%\n"
    }
   }
  },
  {
   "cell_type": "markdown",
   "source": [
    "## Classification using Logistic Regression"
   ],
   "metadata": {
    "collapsed": false,
    "pycharm": {
     "name": "#%% md\n"
    }
   }
  },
  {
   "cell_type": "markdown",
   "source": [
    "\n",
    "**Reminder**: Logistic regression is a fundamental statistical method used for binary classification tasks.\n",
    "\n",
    "Let's examine the performance of the logistic regression model by predicting the country indices, with only the features in the test set."
   ],
   "metadata": {
    "collapsed": false,
    "pycharm": {
     "name": "#%% md\n"
    }
   }
  },
  {
   "cell_type": "code",
   "execution_count": 9,
   "outputs": [
    {
     "name": "stdout",
     "output_type": "stream",
     "text": [
      "+-------------+--------------------+\n",
      "|country_index|     avg(prediction)|\n",
      "+-------------+--------------------+\n",
      "|          8.0|                 0.0|\n",
      "|          0.0|0.002059709094177...|\n",
      "|          7.0|                 0.0|\n",
      "|         18.0|                 0.0|\n",
      "|          1.0|                 0.0|\n",
      "|          4.0|                 0.0|\n",
      "|         11.0|                 0.0|\n",
      "|         22.0|                 0.0|\n",
      "|         19.0|                 0.0|\n",
      "|          3.0|                 0.0|\n",
      "|         28.0|                 0.0|\n",
      "|          2.0|                 0.0|\n",
      "|         17.0|                 0.0|\n",
      "|         27.0|                 0.0|\n",
      "|         10.0|                 0.0|\n",
      "|         13.0|                 0.0|\n",
      "|          6.0|                 0.0|\n",
      "|         20.0|                 0.0|\n",
      "|          5.0|0.006944444444444444|\n",
      "|         15.0|                 0.0|\n",
      "+-------------+--------------------+\n",
      "only showing top 20 rows\n",
      "\n"
     ]
    }
   ],
   "source": [
    "from pyspark.ml.classification import LogisticRegression\n",
    "\n",
    "# Create a logistic regression model\n",
    "lr = LogisticRegression(labelCol=\"country_index\", featuresCol=\"features\")\n",
    "\n",
    "# Fit the logistic regression model to the training data\n",
    "fittedLR = lr.fit(transformedTraining)\n",
    "\n",
    "# Make predictions on the test data and select relevant columns\n",
    "predictions = fittedLR.transform(tranformedTest).select(\"country_index\", \"prediction\")\n",
    "\n",
    "# Group predictions by country index and calculate average prediction\n",
    "grouped_predictions = predictions.groupBy(\"country_index\").avg(\"prediction\")\n",
    "\n",
    "# Show the results for the top 20 country indices\n",
    "grouped_predictions.show(20)\n"
   ],
   "metadata": {
    "collapsed": false,
    "pycharm": {
     "name": "#%%\n"
    }
   }
  },
  {
   "cell_type": "markdown",
   "source": [
    "We can evaluate the model's performance:"
   ],
   "metadata": {
    "collapsed": false,
    "pycharm": {
     "name": "#%% md\n"
    }
   }
  },
  {
   "cell_type": "code",
   "execution_count": 10,
   "outputs": [
    {
     "name": "stdout",
     "output_type": "stream",
     "text": [
      "Accuracy: 0.9097192401284174\n"
     ]
    }
   ],
   "source": [
    "from pyspark.ml.evaluation import MulticlassClassificationEvaluator\n",
    "\n",
    "# Define the evaluator\n",
    "evaluator = MulticlassClassificationEvaluator(labelCol=\"country_index\", predictionCol=\"prediction\", metricName=\"accuracy\")\n",
    "\n",
    "# Calculate accuracy\n",
    "accuracy = evaluator.evaluate(predictions)\n",
    "\n",
    "print(\"Accuracy:\", accuracy)\n"
   ],
   "metadata": {
    "collapsed": false,
    "pycharm": {
     "name": "#%%\n"
    }
   }
  },
  {
   "cell_type": "markdown",
   "id": "3a6f1c5f-16cc-40eb-a9e8-ca701c88b7a2",
   "metadata": {
    "pycharm": {
     "name": "#%% md\n"
    }
   },
   "source": [
    "## Clustering using K-means"
   ]
  },
  {
   "cell_type": "markdown",
   "source": [
    "\n",
    "**Reminder**: K-means is an unsupervised machine learning algorithm used for clustering data into distinct groups, by iteratively assigning data points to the nearest cluster centroid, and updating the centroids to minimize the within-cluster sum of squares.\n",
    "\n",
    "In Spark, training machine learning models is a two phase process. First we initialize an untrained model, then we\n",
    "train it. There are always two types for every algorithm in MLlib’s DataFrame API. The algorithm Kmeans and then the\n",
    "trained version which is a KMeansModel.\n",
    "\n",
    "The column \"features\" contains the transformed features that will be used by the KMeans algorithm for clustering.\n"
   ],
   "metadata": {
    "collapsed": false,
    "pycharm": {
     "name": "#%% md\n"
    }
   }
  },
  {
   "cell_type": "code",
   "execution_count": 11,
   "outputs": [],
   "source": [
    "from pyspark.ml.clustering import KMeans\n",
    "\n",
    "# Define the KMeans model with k=6 clusters and a seed value for reproducibility\n",
    "kmeans = KMeans().setK(6).setSeed(1)\n",
    "\n",
    "# Fit the KMeans model to the transformed training data\n",
    "kmModel = kmeans.fit(transformedTraining)\n",
    "\n",
    "# Make predictions on the transformed test data\n",
    "predictions = kmModel.transform(transformedTest)"
   ],
   "metadata": {
    "collapsed": false,
    "pycharm": {
     "name": "#%%\n"
    }
   }
  },
  {
   "cell_type": "markdown",
   "source": [
    "When we call the fit() method with transformedTraining, KMeans utilizes the \"features\" column to cluster the data points based on the features contained within it. The algorithm finds the optimal cluster centroids based on these features."
   ],
   "metadata": {
    "collapsed": false,
    "pycharm": {
     "name": "#%% md\n"
    }
   }
  },
  {
   "cell_type": "code",
   "execution_count": 12,
   "outputs": [
    {
     "name": "stdout",
     "output_type": "stream",
     "text": [
      "Cluster Centers: \n",
      "1: [3.92418504 9.98748317 0.19459061 0.1885682  0.17786946 0.17771212\n",
      " 0.14484672]\n",
      "2: [ 2.0800e+00 -8.0995e+04  0.0000e+00  0.0000e+00  0.0000e+00  0.0000e+00\n",
      "  1.0000e+00]\n",
      "3: [ 6.57191333e+03 -6.29629630e-01  7.40740741e-02  1.85185185e-01\n",
      "  2.59259259e-01  3.33333333e-01  1.48148148e-01]\n",
      "4: [ 3.897e+04 -1.000e+00  0.000e+00  0.000e+00  0.000e+00  0.000e+00\n",
      "  1.000e+00]\n",
      "5: [ 2.79459459e-01 -2.23194595e+03  2.70270270e-01  1.08108108e-01\n",
      "  2.16216216e-01  2.97297297e-01  1.08108108e-01]\n",
      "6: [ 1.0400e+00 -7.4215e+04  1.0000e+00  0.0000e+00  0.0000e+00  0.0000e+00\n",
      "  0.0000e+00]\n"
     ]
    }
   ],
   "source": [
    "# Shows the result.\n",
    "centers = kmModel.clusterCenters()\n",
    "print(\"Cluster Centers: \")\n",
    "for i, center in enumerate(centers):\n",
    "    print(f\"{i+1}: {center}\")"
   ],
   "metadata": {
    "collapsed": false,
    "pycharm": {
     "name": "#%%\n"
    }
   }
  },
  {
   "cell_type": "markdown",
   "source": [
    "Let's evaluate the model's performance:"
   ],
   "metadata": {
    "collapsed": false,
    "pycharm": {
     "name": "#%% md\n"
    }
   }
  },
  {
   "cell_type": "code",
   "execution_count": 13,
   "outputs": [
    {
     "name": "stdout",
     "output_type": "stream",
     "text": [
      "Silhouette Score: 0.9929377048784757\n"
     ]
    }
   ],
   "source": [
    "from pyspark.ml.evaluation import ClusteringEvaluator\n",
    "\n",
    "# Evaluate clustering by computing Silhouette score\n",
    "evaluator = ClusteringEvaluator()\n",
    "\n",
    "# Compute the Silhouette score\n",
    "silhouette_score = evaluator.evaluate(predictions)\n",
    "print(\"Silhouette Score:\", silhouette_score)"
   ],
   "metadata": {
    "collapsed": false,
    "pycharm": {
     "name": "#%%\n"
    }
   }
  },
  {
   "cell_type": "markdown",
   "source": [
    "### Repeating the Runs\n",
    "\n",
    "In the context of machine learning models like K-means clustering, ensuring repeatability and reproducibility of results is crucial for reliability and trustworthiness of the model.\n",
    "\n",
    "**Repeatability** refers to the ability to obtain the same results by running the model multiple times with the same initial conditions, including the random seed. It is important for ensuring consistency in model performance and behavior.\n",
    "\n",
    "**Reproducibility**, on the other hand, is the ability to obtain similar results even when different random numbers are used. In other words, if the model is run with different random seeds, but under the same conditions, one should still expect to get comparable outcomes. Reproducibility is essential for confirming the robustness of the model and its generalizability across different random initializations.\n",
    "\n",
    "In the context of K-means clustering, where initial centroids are initialized randomly, ensuring both repeatability and reproducibility is vital. While setting a random seed (e.g., using `setSeed()` function) helps achieve repeatability, validating the model's robustness against different initializations is equally important for assessing its reproducibility.\n",
    "\n",
    "By repeating runs with varying seeds and observing consistency or variance in results, we can gain insights into the stability and reliability of the K-means clustering algorithm. This process not only validates the model but also helps identify potential biases or sensitivities to initial conditions, contributing to the overall trustworthiness of the clustering results.\n"
   ],
   "metadata": {
    "collapsed": false,
    "pycharm": {
     "name": "#%% md\n"
    }
   }
  },
  {
   "cell_type": "code",
   "execution_count": 14,
   "outputs": [
    {
     "name": "stdout",
     "output_type": "stream",
     "text": [
      "Running with seed: 1\n",
      "Silhouette Score: 0.9929377048784757\n",
      "\n",
      "\n",
      "Running with seed: 42\n",
      "Silhouette Score: 0.9964713597189867\n",
      "\n",
      "\n",
      "Running with seed: 123\n",
      "Silhouette Score: 0.996705241654958\n",
      "\n",
      "\n"
     ]
    }
   ],
   "source": [
    "# Define a list of seed values for testing repeatability and reproducibility\n",
    "seed_values = [1, 42, 123]\n",
    "\n",
    "for seed in seed_values:\n",
    "    print(f\"Running with seed: {seed}\")\n",
    "    # Define the KMeans model with k=6 clusters and a seed value for reproducibility\n",
    "    kmeans = KMeans().setK(6).setSeed(seed)\n",
    "\n",
    "    # Fit the KMeans model to the transformed training data\n",
    "    kmModel = kmeans.fit(transformedTraining)\n",
    "\n",
    "    # Make predictions on the transformed test data\n",
    "    predictions = kmModel.transform(transformedTest)\n",
    "\n",
    "    # Evaluate clustering by computing Silhouette score\n",
    "    evaluator = ClusteringEvaluator()\n",
    "\n",
    "    # Compute the Silhouette score\n",
    "    silhouette_score = evaluator.evaluate(predictions)\n",
    "    print(\"Silhouette Score:\", silhouette_score)\n",
    "    print(\"\\n\")\n"
   ],
   "metadata": {
    "collapsed": false,
    "pycharm": {
     "name": "#%%\n"
    }
   }
  },
  {
   "cell_type": "markdown",
   "source": [
    "The consistent high Silhouette scores obtained across runs with different seeds provide evidence for both repeatability and reproducibility of the KMeans clustering model."
   ],
   "metadata": {
    "collapsed": false,
    "pycharm": {
     "name": "#%% md\n"
    }
   }
  },
  {
   "cell_type": "markdown",
   "source": [
    "To explore further opportunities in classifications & regressions, please look at:\n",
    "https://spark.apache.org/docs/latest/ml-classification-regression.html#linear-regression"
   ],
   "metadata": {
    "collapsed": false,
    "pycharm": {
     "name": "#%% md\n"
    }
   }
  },
  {
   "cell_type": "markdown",
   "source": [
    "## Model Selection and Hyperparameter Tuning"
   ],
   "metadata": {
    "collapsed": false,
    "pycharm": {
     "name": "#%% md\n"
    }
   }
  },
  {
   "cell_type": "markdown",
   "source": [
    "**Reminder**: Hyperparameters are settings that govern the learning process and affect the model's behavior and performance.\n",
    "\n",
    "Hyperparameter tuning is essential because it helps optimize machine learning models' performance by finding the most effective combination of hyperparameters."
   ],
   "metadata": {
    "collapsed": false,
    "pycharm": {
     "name": "#%% md\n"
    }
   }
  },
  {
   "cell_type": "markdown",
   "source": [
    "Using grid (cartesian product) is inefficient due to a lot of wasted runs. There are more advanced methods to reduce the tested parameters combinations.\n",
    "\n",
    "**ParamGridBuilder**: The ParamGridBuilder is used to define a grid of hyperparameters for the model. In this example, we define a grid for the maximum number of iterations (maxIter) and regularization parameter (regParam) for the logistic regression model.\n",
    "\n",
    "**CrossValidator**: CrossValidator is used to perform model selection and hyperparameter tuning. It takes an estimator (in this case, logistic regression), a set of hyperparameters, an evaluator, and the number of folds for cross-validation."
   ],
   "metadata": {
    "collapsed": false,
    "pycharm": {
     "name": "#%% md\n"
    }
   }
  },
  {
   "cell_type": "markdown",
   "source": [
    "Exploring a Grid Search Technique to Construct a Logistic Regression Model and Investigate Diverse Hyperparameter Configurations Methodically:"
   ],
   "metadata": {
    "collapsed": false,
    "pycharm": {
     "name": "#%% md\n"
    }
   }
  },
  {
   "cell_type": "code",
   "execution_count": 15,
   "outputs": [
    {
     "name": "stdout",
     "output_type": "stream",
     "text": [
      "Accuracy: 0.9100600508489595\n"
     ]
    }
   ],
   "source": [
    "from pyspark.ml.tuning import ParamGridBuilder, CrossValidator\n",
    "from pyspark.ml.evaluation import RegressionEvaluator , MulticlassClassificationEvaluator\n",
    "\n",
    "# Define the Logistic Regression model\n",
    "lr = LogisticRegression(labelCol=\"country_index\", featuresCol=\"features\")\n",
    "\n",
    "# Define the parameter grid to search\n",
    "param_grid = ParamGridBuilder() \\\n",
    "    .addGrid(lr.maxIter, [50, 100, 150, 200]) \\\n",
    "    .addGrid(lr.regParam, [0.1, 0.05, 0.01, 1.0]) \\\n",
    "    .build()\n",
    "\n",
    "# Define the evaluator\n",
    "evaluator = MulticlassClassificationEvaluator(labelCol=\"country_index\", metricName=\"accuracy\")\n",
    "\n",
    "# Define the cross-validator\n",
    "cross_validator = CrossValidator(estimator=lr,\n",
    "                                 estimatorParamMaps=param_grid,\n",
    "                                 evaluator=evaluator,\n",
    "                                 numFolds=10)\n",
    "\n",
    "# Fit the model using cross-validation\n",
    "cv_model = cross_validator.fit(transformedTraining)\n",
    "\n",
    "# Make predictions on the test data\n",
    "predictions = cv_model.transform(tranformedTest)\n",
    "\n",
    "# Evaluate the model\n",
    "accuracy = evaluator.evaluate(predictions)\n",
    "print(\"Accuracy:\", accuracy)\n"
   ],
   "metadata": {
    "collapsed": false,
    "pycharm": {
     "name": "#%%\n"
    }
   }
  },
  {
   "cell_type": "markdown",
   "source": [
    "To explore further opportunities in tuning, please look at:\n",
    "https://spark.apache.org/docs/latest/ml-tuning.html"
   ],
   "metadata": {
    "collapsed": false,
    "pycharm": {
     "name": "#%% md\n"
    }
   }
  },
  {
   "cell_type": "markdown",
   "source": [
    "## Dimensionality Reduction using PCA"
   ],
   "metadata": {
    "collapsed": false,
    "pycharm": {
     "name": "#%% md\n"
    }
   }
  },
  {
   "cell_type": "markdown",
   "source": [
    "**Reminder**: Principal Component Analysis (PCA) is a widely used dimensionality reduction technique that aims to capture the most important information in a dataset by transforming the original features into a new set of orthogonal variables called principal components.\n",
    "\n",
    "Let's perform PCA on the \"features\" column in our training data."
   ],
   "metadata": {
    "collapsed": false,
    "pycharm": {
     "name": "#%% md\n"
    }
   }
  },
  {
   "cell_type": "code",
   "execution_count": 16,
   "outputs": [
    {
     "name": "stdout",
     "output_type": "stream",
     "text": [
      "+------------------------------------------------------------+\n",
      "|pca_features                                                |\n",
      "+------------------------------------------------------------+\n",
      "|[-575.9994473169392,0.8735991718102942,0.1208822203748868]  |\n",
      "|[-575.9992779083976,1.0635990962187813,0.12088140076148719] |\n",
      "|[-95.99901402476134,1.1456193524965315,0.12536488554945324] |\n",
      "|[-575.9994473169392,0.8735991718102942,0.1208822203748868]  |\n",
      "|[-575.9994473169392,0.8735991718102942,0.1208822203748868]  |\n",
      "|[-575.9994473169392,0.8735991718102942,0.1208822203748868]  |\n",
      "|[-575.9994473169392,0.8735991718102942,0.1208822203748868]  |\n",
      "|[-479.99948548585013,0.7880032636465513,0.12177935733546297]|\n",
      "|[-479.99948548585013,0.7880032636465513,0.12177935733546297]|\n",
      "|[-479.99948548585013,0.7880032636465513,0.12177935733546297]|\n",
      "+------------------------------------------------------------+\n",
      "only showing top 10 rows\n",
      "\n"
     ]
    }
   ],
   "source": [
    "from pyspark.ml.feature import PCA\n",
    "\n",
    "# Assuming you have assembled features into a vector column named \"features\"\n",
    "# You may need to adjust the inputCol based on your actual data\n",
    "assembled_features = transformedTraining.select(\"features\")\n",
    "\n",
    "# Define the PCA model with desired number of principal components\n",
    "num_principal_components = 3  # Don't use 2 components automatically. We live in a 3D world.\n",
    "pca = PCA(k=num_principal_components, inputCol=\"features\", outputCol=\"pca_features\")\n",
    "\n",
    "# Fit the PCA model to the data\n",
    "pca_model = pca.fit(assembled_features)\n",
    "\n",
    "# Transform the data to the lower-dimensional space\n",
    "transformed_data = pca_model.transform(assembled_features)\n",
    "\n",
    "# Show the transformed data with PCA features\n",
    "transformed_data.select(\"pca_features\").show(10, truncate=False)\n"
   ],
   "metadata": {
    "collapsed": false,
    "pycharm": {
     "name": "#%%\n"
    }
   }
  },
  {
   "cell_type": "markdown",
   "source": [
    "#### Plotting"
   ],
   "metadata": {
    "collapsed": false,
    "pycharm": {
     "name": "#%% md\n"
    }
   }
  },
  {
   "cell_type": "code",
   "execution_count": 17,
   "outputs": [
    {
     "name": "stderr",
     "output_type": "stream",
     "text": [
      "C:\\Users\\user\\AppData\\Local\\Temp\\ipykernel_3052\\199660679.py:19: MatplotlibDeprecationWarning: The clean function was deprecated in Matplotlib 3.8 and will be removed two minor releases later. Use none, you no longer need to clean a Grouper instead.\n",
      "  ax.scatter(x, y, z)\n"
     ]
    },
    {
     "data": {
      "text/plain": "<Figure size 640x480 with 1 Axes>",
      "image/png": "[encoded data removed]"
     },
     "metadata": {},
     "output_type": "display_data"
    }
   ],
   "source": [
    "import matplotlib.pyplot as plt\n",
    "\n",
    "# Assuming transformed_data is your DataFrame with PCA features\n",
    "pca_features = transformed_data.select(\"pca_features\").collect()\n",
    "\n",
    "# Extracting PCA feature values\n",
    "pca_values = [row.pca_features.toArray() for row in pca_features]\n",
    "\n",
    "# Creating a 3D plot\n",
    "fig = plt.figure()\n",
    "ax = fig.add_subplot(111, projection='3d')\n",
    "\n",
    "# Extracting PCA components\n",
    "x = [val[0] for val in pca_values]\n",
    "y = [val[1] for val in pca_values]\n",
    "z = [val[2] for val in pca_values]\n",
    "\n",
    "# Plotting data points\n",
    "ax.scatter(x, y, z)\n",
    "\n",
    "# Setting labels\n",
    "ax.set_xlabel('PC1')\n",
    "ax.set_ylabel('PC2')\n",
    "ax.set_zlabel('PC3')\n",
    "\n",
    "# Displaying the plot\n",
    "plt.show()\n"
   ],
   "metadata": {
    "collapsed": false,
    "pycharm": {
     "name": "#%%\n"
    }
   }
  },
  {
   "cell_type": "markdown",
   "source": [
    "To explore further opportunities in dimensionality reduction, please look at:\n",
    "https://spark.apache.org/docs/latest/mllib-dimensionality-reduction.html\n"
   ],
   "metadata": {
    "collapsed": false,
    "pycharm": {
     "name": "#%% md\n"
    }
   }
  },
  {
   "cell_type": "markdown",
   "source": [
    "## Basic Statistics"
   ],
   "metadata": {
    "collapsed": false,
    "pycharm": {
     "name": "#%% md\n"
    }
   }
  },
  {
   "cell_type": "markdown",
   "source": [
    "Let's demonstrate how to perform correlation analysis.\n",
    "\n",
    "**Reminder**: Correlation analysis is a statistical technique used to quantify the degree to which two or more variables are related to each other. It helps identify patterns, relationships, and dependencies between different variables in a dataset. Correlation analysis is essential for understanding the interdependencies between features and for feature selection in machine learning models."
   ],
   "metadata": {
    "collapsed": false,
    "pycharm": {
     "name": "#%% md\n"
    }
   }
  },
  {
   "cell_type": "code",
   "execution_count": 18,
   "outputs": [],
   "source": [
    "from pyspark.ml.stat import Correlation\n",
    "\n",
    "# Compute the correlation matrix for the \"features\" column\n",
    "corr_matrix = Correlation.corr(transformedTraining, \"features\").head()\n",
    "\n",
    "# Extract the correlation matrix as a DenseMatrix\n",
    "corr_matrix_values = corr_matrix[0].toArray()"
   ],
   "metadata": {
    "collapsed": false,
    "pycharm": {
     "name": "#%%\n"
    }
   }
  },
  {
   "cell_type": "code",
   "execution_count": 19,
   "outputs": [
    {
     "data": {
      "text/plain": "<Figure size 700x700 with 2 Axes>",
      "image/png": "[encoded data removed]"
     },
     "metadata": {},
     "output_type": "display_data"
    }
   ],
   "source": [
    "import matplotlib.pyplot as plt\n",
    "import seaborn as sns\n",
    "\n",
    "# Create a heatmap using Seaborn\n",
    "plt.figure(figsize=(7, 7))\n",
    "sns.heatmap(corr_matrix_values, annot=True, cmap=\"coolwarm\", fmt=\".2f\", square=True,\n",
    "            xticklabels=transformedTraining.columns, yticklabels=transformedTraining.columns)\n",
    "\n",
    "plt.title(\"Correlation Heatmap\")\n",
    "plt.show()"
   ],
   "metadata": {
    "collapsed": false,
    "pycharm": {
     "name": "#%%\n"
    }
   }
  },
  {
   "cell_type": "markdown",
   "source": [
    "To explore further opportunities in statistics, please look at:\n",
    " https://spark.apache.org/docs/latest/ml-statistics.html"
   ],
   "metadata": {
    "collapsed": false,
    "pycharm": {
     "name": "#%% md\n"
    }
   }
  },
  {
   "cell_type": "code",
   "execution_count": 84,
   "outputs": [],
   "source": [
    "# Do not forget to release the resources held by Spark\n",
    "spark.stop()"
   ],
   "metadata": {
    "collapsed": false,
    "pycharm": {
     "name": "#%%\n"
    }
   }
  }
 ],
 "metadata": {
  "kernelspec": {
   "display_name": "Python 3 (ipykernel)",
   "language": "python",
   "name": "python3"
  },
  "language_info": {
   "codemirror_mode": {
    "name": "ipython",
    "version": 3
   },
   "file_extension": ".py",
   "mimetype": "text/x-python",
   "name": "python",
   "nbconvert_exporter": "python",
   "pygments_lexer": "ipython3",
   "version": "3.9.10"
  }
 },
 "nbformat": 4,
 "nbformat_minor": 5
}